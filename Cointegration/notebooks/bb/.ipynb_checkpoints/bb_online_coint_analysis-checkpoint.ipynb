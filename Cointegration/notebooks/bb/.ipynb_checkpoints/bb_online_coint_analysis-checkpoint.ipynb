{
 "cells": [
  {
   "cell_type": "code",
   "execution_count": 1,
   "metadata": {},
   "outputs": [
    {
     "data": {
      "text/html": [
       "<script>\n",
       "code_show=true; \n",
       "function code_toggle() {\n",
       " if (code_show){\n",
       " $('div.input').hide();\n",
       " } else {\n",
       " $('div.input').show();\n",
       " }\n",
       " code_show = !code_show\n",
       "} \n",
       "$( document ).ready(code_toggle);\n",
       "</script>\n",
       "<form action=\"javascript:code_toggle()\"><input type=\"submit\" value=\"Click here to toggle on/off the raw code.\"></form>"
      ],
      "text/plain": [
       "<IPython.core.display.HTML object>"
      ]
     },
     "execution_count": 1,
     "metadata": {},
     "output_type": "execute_result"
    }
   ],
   "source": [
    "from IPython.display import HTML\n",
    "\n",
    "HTML('''<script>\n",
    "code_show=true; \n",
    "function code_toggle() {\n",
    " if (code_show){\n",
    " $('div.input').hide();\n",
    " } else {\n",
    " $('div.input').show();\n",
    " }\n",
    " code_show = !code_show\n",
    "} \n",
    "$( document ).ready(code_toggle);\n",
    "</script>\n",
    "<form action=\"javascript:code_toggle()\"><input type=\"submit\" value=\"Click here to toggle on/off the raw code.\"></form>''')"
   ]
  },
  {
   "cell_type": "code",
   "execution_count": 2,
   "metadata": {},
   "outputs": [],
   "source": [
    "%matplotlib inline"
   ]
  },
  {
   "cell_type": "code",
   "execution_count": 3,
   "metadata": {},
   "outputs": [],
   "source": [
    "import numpy as np\n",
    "import pandas as pd\n",
    "import datetime\n",
    "import matplotlib.pyplot as plt\n",
    "\n",
    "from arch.unitroot import VarianceRatio\n",
    "from itertools import groupby\n",
    "from scipy.stats import norm\n",
    "from sklearn.metrics import r2_score\n",
    "from statsmodels.robust.scale import mad\n",
    "\n",
    "from sgmbasketball.models.factor_model.play_by_play_data import PlayByPlayCleanData\n",
    "from stratagemdataprocessing.data_api import find_basketball_events\n",
    "\n",
    "from sgmresearchbase.coint.space import normalise\n",
    "from sgmresearchbase.coint.common import hurst_naive\n",
    "from sgmresearchbase.coint.services import CointegrationService, _zs\n",
    "from sgmresearchbase.coint.projection import interpolate\n",
    "from sgmresearchbase.coint.regression import add_constant, coch_regression\n",
    "\n",
    "from IPython.display import clear_output"
   ]
  },
  {
   "cell_type": "code",
   "execution_count": 4,
   "metadata": {},
   "outputs": [],
   "source": [
    "plt.style.use('ggplot')\n",
    "plt.rcParams['figure.figsize'] = (16, 8)"
   ]
  },
  {
   "cell_type": "code",
   "execution_count": 5,
   "metadata": {
    "scrolled": false
   },
   "outputs": [],
   "source": [
    "START_DT = datetime.datetime(2016, 10, 1)\n",
    "END_DT = datetime.datetime(2017, 6, 1)\n",
    "\n",
    "ALL_EVENTS = find_basketball_events(START_DT, END_DT, True)\n",
    "NBA_EVENTS = filter(lambda e: e['stage_name'] == 'NBA', ALL_EVENTS)\n",
    "\n",
    "PBP = PlayByPlayCleanData(str(START_DT)[0:10], str(END_DT)[0:10], 'NBA', 'pbp', fixture_filter=None).get_data_ready()\n",
    "clear_output()"
   ]
  },
  {
   "cell_type": "code",
   "execution_count": 6,
   "metadata": {},
   "outputs": [],
   "source": [
    "def mk_test(x, out='both'):\n",
    "    \"\"\"\n",
    "    This function is derived from code originally posted by Sat Kumar Tomer (satkumartomer at gmail.com)\n",
    "    See also: http://vsp.pnnl.gov/help/Vsample/Design_Trend_Mann_Kendall.htm\n",
    "\n",
    "    The purpose of the Mann-Kendall (MK) test (Mann 1945, Kendall 1975, Gilbert 1987) is to statistically assess\n",
    "    if there is a monotonic upward or downward trend of the variable of interest over time. A monotonic upward\n",
    "    (downward) trend means that the variable consistently increases (decreases) through time, but the trend may\n",
    "    or may not be linear. The MK test can be used in place of a parametric linear regression analysis, which can\n",
    "    be used to test if the slope of the estimated linear regression line is different from zero. The regression\n",
    "    analysis requires that the residuals from the fitted regression line be normally distributed; an assumption\n",
    "    not required by the MK test, that is, the MK test is a non-parametric (distribution-free) test.\n",
    "\n",
    "    Hirsch, Slack and Smith (1982, page 107) indicate that the MK test is best viewed as an exploratory analysis\n",
    "    and is most appropriately used to identify stations where changes are significant or of large magnitude and\n",
    "    to quantify these findings.\n",
    "\n",
    "    Input:\n",
    "        x:   a vector of data\n",
    "    Output:\n",
    "        p: p value of the significance test\n",
    "        z: normalized test statistics\n",
    "\n",
    "    Examples\n",
    "    --------\n",
    "      >>> x = np.random.rand(100)\n",
    "      >>> p, z = mk_test(x, 0.05)\n",
    "    \"\"\"    \n",
    "    n = len(x)\n",
    "\n",
    "    # Calculate S\n",
    "    s = 0\n",
    "    for k in range(n-1):\n",
    "        s += np.sign(x[(k + 1):] - x[k]).sum()\n",
    "    \n",
    "    # Calculate var(S)\n",
    "    var_s = float(n * (n - 1) * (2 * n + 5)) / 18\n",
    "    g = len(np.unique(x))\n",
    "    if g < n:\n",
    "        x2 = sorted(x)\n",
    "        for xx, xg in groupby(x2):\n",
    "            tp = len(list(xg))\n",
    "            if tp > 1:\n",
    "                var_s -= float(tp * (tp - 1) * (2 * tp + 5)) / 18\n",
    "    \n",
    "    # Calculate statistic\n",
    "    if s > 0:\n",
    "        z = (s - 1) / np.sqrt(var_s)\n",
    "    elif s == 0:\n",
    "        z = 0\n",
    "    elif s < 0:\n",
    "        z = (s + 1) / np.sqrt(var_s)\n",
    "    if out == 'stat':\n",
    "        return z\n",
    "\n",
    "    # Calculate p_value\n",
    "    p = 2 * (1 - norm.cdf(abs(z))) # two tail test\n",
    "    if out == 'pvalue':\n",
    "        return p\n",
    "    \n",
    "    return p, z"
   ]
  },
  {
   "cell_type": "code",
   "execution_count": 7,
   "metadata": {},
   "outputs": [],
   "source": [
    "def hurst_test(s):\n",
    "    if len(s) <= 40:\n",
    "        return np.nan\n",
    "\n",
    "    return hurst_naive(s, lags=range(2, 50))"
   ]
  },
  {
   "cell_type": "code",
   "execution_count": 8,
   "metadata": {},
   "outputs": [],
   "source": [
    "def vr_test(s, lag):\n",
    "    if len(s) < 2 * lag:\n",
    "        return np.nan\n",
    "\n",
    "    vr = VarianceRatio(s, lag)\n",
    "    return vr.stat, vr.pvalue"
   ]
  },
  {
   "cell_type": "code",
   "execution_count": 9,
   "metadata": {},
   "outputs": [],
   "source": [
    "def detect_min_max(vals):\n",
    "    x = np.arange(vals.shape[0])\n",
    "    p = np.poly1d(np.polyfit(x, vals, 3))\n",
    "\n",
    "    if r2_score(vals, p(x)) < 0.5:\n",
    "        return None, None\n",
    "    \n",
    "    crit = p.deriv().r\n",
    "    r_crit = crit[crit.imag == 0].real\n",
    "    test = p.deriv(2)(r_crit)\n",
    "\n",
    "    return r_crit[test > 0], r_crit[test < 0]"
   ]
  },
  {
   "cell_type": "code",
   "execution_count": 10,
   "metadata": {},
   "outputs": [],
   "source": [
    "def fix_basis(both_bases):\n",
    "    if both_bases[0, 0]*both_bases[1, 0] < 0:\n",
    "        basis = both_bases[:, 0]\n",
    "    elif both_bases[0, 1]*both_bases[1, 1] < 0:\n",
    "        basis = both_bases[:, 1]\n",
    "    else:\n",
    "        basis = both_bases[:, 0]*0.0    \n",
    "\n",
    "    if basis[0] < 0:\n",
    "        basis = -basis\n",
    "\n",
    "    return basis"
   ]
  },
  {
   "cell_type": "code",
   "execution_count": 11,
   "metadata": {},
   "outputs": [],
   "source": [
    "def get_basis(vals):\n",
    "    if vals.shape[0] < 10:\n",
    "        return np.zeros((2,))\n",
    "\n",
    "    both_bases = CointegrationService.get_cointegrating_bases(vals, model=1)\n",
    "    if both_bases is None:\n",
    "        return np.zeros((2,))\n",
    "\n",
    "    return fix_basis(both_bases)"
   ]
  },
  {
   "cell_type": "code",
   "execution_count": 12,
   "metadata": {},
   "outputs": [],
   "source": [
    "def get_spread(vals, basis):\n",
    "    spd = CointegrationService.get_spread_series(vals, basis)\n",
    "    mad_ = mad(spd, center=np.median, c=1)\n",
    "    mean_ad = mad(spd, center=np.mean, c=1)\n",
    "\n",
    "    if abs(mad_) < 1e-7:\n",
    "        return (spd - np.median(spd)) / 1.253314 / mean_ad\n",
    "    else:\n",
    "        return (spd - np.median(spd)) / 1.486 / mad_"
   ]
  },
  {
   "cell_type": "code",
   "execution_count": 13,
   "metadata": {},
   "outputs": [],
   "source": [
    "def to_signal(spread, test_idx=-1, check_hurst=True):\n",
    "    if check_hurst and hurst_test(spread) >= 0.5:\n",
    "        return [0, 0]\n",
    "\n",
    "    if test_idx == -1:\n",
    "        test_idx = spread.shape[0]-1\n",
    "\n",
    "    def co_signal():\n",
    "        if test_idx < 100:\n",
    "            return 0\n",
    "\n",
    "        exog = add_constant(np.arange(100).astype(np.float)/100)\n",
    "        endog = spread[(test_idx-100):test_idx]\n",
    "\n",
    "        fit = coch_regression(exog, endog)\n",
    "        if fit.pvalues[1] < 0.05:\n",
    "            if fit.params[1] > 0.1:\n",
    "                return 1\n",
    "            elif fit.params[1] < -0.1:\n",
    "                return -1\n",
    "        else:\n",
    "            return 0\n",
    "\n",
    "#     def mk_signal():\n",
    "#         mk = mk_test(spread[-100:])\n",
    "#         if mk[0] > 0.05 or spread.shape[0] < 100:\n",
    "#             return 0\n",
    "\n",
    "#         min_, max_ = detect_min_max(spread[-100:])\n",
    "#         if min_ is None or min_.shape[0] == 0 or max_ is None or max_.shape[0] == 0:\n",
    "#             return 0\n",
    "#         else:\n",
    "#             min_, max_ = (X.shape[0]-100)+int(min_[0]), (X.shape[0]-100)+int(max_[0])\n",
    "\n",
    "#         if mk[1] > 0 and max_ > min_ and max_ > test_idx-5 and max_ <= test_idx+5:\n",
    "#             return -1\n",
    "#         elif mk[1] < 0 and min_ > max_ and min_ > test_idx-5 and min_ <= test_idx+5:\n",
    "#             return 1\n",
    "#         else:\n",
    "#             return 0\n",
    "\n",
    "    def ext_signal():\n",
    "        if spread[test_idx] > 2:\n",
    "            return -1\n",
    "        elif spread[test_idx] < -2:\n",
    "            return 1\n",
    "        else:\n",
    "            return 0\n",
    "\n",
    "    return [co_signal(), ext_signal()]"
   ]
  },
  {
   "cell_type": "code",
   "execution_count": 14,
   "metadata": {},
   "outputs": [],
   "source": [
    "def z_based_outlier(points, thresh=3.0):\n",
    "    mean = np.mean(points, axis=0)\n",
    "    diff = points - mean\n",
    "\n",
    "    return np.abs(diff / np.std(points)) > thresh\n",
    "\n",
    "def mad_based_outlier(points, thresh=3.5):\n",
    "    median = np.median(points, axis=0)\n",
    "    diff = points - median\n",
    "    med_abs_deviation = np.median(np.abs(diff))\n",
    "\n",
    "    return np.abs(0.6745 * diff / med_abs_deviation) > thresh"
   ]
  },
  {
   "cell_type": "code",
   "execution_count": 15,
   "metadata": {},
   "outputs": [],
   "source": [
    "def smoothed_bases(bases):\n",
    "    def get_valid(idx):\n",
    "        return bases[:(idx+1)][~z_based_outlier(bases[:(idx+1), 0], thresh=3.0)]\n",
    "\n",
    "    return np.array(\n",
    "        [(np.median(get_valid(i), axis=0)) for i in range(bases.shape[0])]\n",
    "    )"
   ]
  },
  {
   "cell_type": "code",
   "execution_count": 16,
   "metadata": {},
   "outputs": [],
   "source": [
    "def get_sample(eid):\n",
    "    data = PBP.loc[eid]\n",
    "\n",
    "    return data[['points_h', 'points_a']].values"
   ]
  },
  {
   "cell_type": "code",
   "execution_count": 17,
   "metadata": {},
   "outputs": [],
   "source": [
    "from sgmbasketball.models.factor_model.raw_data import NaturalHandicapRawData\n",
    "NH = NaturalHandicapRawData(str(START_DT)[0:10], str(END_DT)[0:10], 'NBA', '', fixture_filter=None, use_cache=False).get_data_ready()\n",
    "\n",
    "def get_nh(eid):\n",
    "    return NH.loc[eid, 'ftps_1_line']\n",
    "\n",
    "def nh_prior(nh):\n",
    "    p = 0.5 + 0.002*nh\n",
    "    return np.array([p, p-1])"
   ]
  },
  {
   "cell_type": "code",
   "execution_count": 22,
   "metadata": {
    "scrolled": false
   },
   "outputs": [],
   "source": [
    "def do_plot(eid, prior=nh_prior(0)):\n",
    "    X = get_sample(eid)\n",
    "\n",
    "    ss = 1\n",
    "    lb =100\n",
    "    mv = X.shape[0]\n",
    "\n",
    "    actual_basis = get_basis(X)\n",
    "    actual_spread = get_spread(X, actual_basis)\n",
    "\n",
    "    all_bases = np.array([get_basis(X[:i, :]) for i in range(0, mv)])\n",
    "    all_bases[:lb] = prior\n",
    "    all_smoothed = smoothed_bases(all_bases)\n",
    "\n",
    "    signals = np.array([to_signal(get_spread(X[:i, :], all_smoothed[i])) for i in range(lb, mv, ss)], dtype=np.int)\n",
    "    signals_cheat_online = np.array([to_signal(get_spread(X[:i, :], actual_basis)) for i in range(lb, mv, ss)])\n",
    "    signals_cheat_full = np.array([to_signal(actual_spread, test_idx=i, check_hurst=False) for i in range(0, mv, 1)])\n",
    "\n",
    "    f, axes = plt.subplots(5, figsize=(16, 20), sharex=True)\n",
    "\n",
    "    axes[0].step(np.arange(mv), X)\n",
    "    axes[0].set_title('Scores')\n",
    "\n",
    "    axes[1].step(np.arange(mv), actual_spread)\n",
    "    axes[1].step(np.arange(lb, mv, ss), [get_spread(X[:i, :], all_smoothed[i])[-1] for i in range(lb, mv, ss)])\n",
    "    axes[1].step(np.arange(lb, mv, ss), [get_spread(X[:i, :], prior)[-1] for i in range(lb, mv, ss)])\n",
    "    axes[1].set_title('Spread')\n",
    "    axes[1].axhline(1, linestyle='--', color='k', alpha=0.5)\n",
    "    axes[1].axhline(-1, linestyle='--', color='k', alpha=0.5)\n",
    "    axes[1].axhline(2, linestyle='--', color='k')\n",
    "    axes[1].axhline(-2, linestyle='--', color='k')\n",
    "    axes[1].set_xlim([0, mv])\n",
    "    axes[1].set_ylim([-3, 3])\n",
    "    axes[1].legend(['Hindsight', 'Online Estimation', 'Regular Point Spread'], loc='best')\n",
    "\n",
    "    axes[2].step(np.arange(lb, mv, ss), signals)\n",
    "    axes[2].set_title('Online')\n",
    "    axes[2].set_xlim([0, mv])\n",
    "    axes[2].set_ylim([-1.2, 1.2])\n",
    "    axes[2].legend(['Cochrane-Orcutt', 'Overextension from Mean'], loc='best')\n",
    "\n",
    "    axes[3].step(np.arange(lb, mv, ss), signals_cheat_online)\n",
    "    axes[3].set_title('Cheat (partial)')\n",
    "    axes[3].set_xlim([0, mv])\n",
    "    axes[3].set_ylim([-1.2, 1.2])\n",
    "\n",
    "    axes[4].step(np.arange(0, mv, 1), signals_cheat_full)\n",
    "    axes[4].set_title('Cheat (full)')\n",
    "    axes[4].set_xlim([0, mv])\n",
    "    axes[4].set_ylim([-1.2, 1.2])\n",
    "\n",
    "    plt.tight_layout()"
   ]
  },
  {
   "cell_type": "code",
   "execution_count": 1,
   "metadata": {
    "scrolled": false
   },
   "outputs": [
    {
     "ename": "NameError",
     "evalue": "name 'do_plot' is not defined",
     "output_type": "error",
     "traceback": [
      "\u001b[1;31m---------------------------------------------------------------------------\u001b[0m",
      "\u001b[1;31mNameError\u001b[0m                                 Traceback (most recent call last)",
      "\u001b[1;32m<ipython-input-1-be8d7797343b>\u001b[0m in \u001b[0;36m<module>\u001b[1;34m()\u001b[0m\n\u001b[0;32m      1\u001b[0m \u001b[0meid\u001b[0m \u001b[1;33m=\u001b[0m \u001b[1;36m2352977\u001b[0m\u001b[1;33m\u001b[0m\u001b[0m\n\u001b[1;32m----> 2\u001b[1;33m \u001b[0mdo_plot\u001b[0m\u001b[1;33m(\u001b[0m\u001b[0meid\u001b[0m\u001b[1;33m,\u001b[0m \u001b[0mprior\u001b[0m\u001b[1;33m=\u001b[0m\u001b[0mnh_prior\u001b[0m\u001b[1;33m(\u001b[0m\u001b[0mget_nh\u001b[0m\u001b[1;33m(\u001b[0m\u001b[0meid\u001b[0m\u001b[1;33m)\u001b[0m\u001b[1;33m)\u001b[0m\u001b[1;33m)\u001b[0m\u001b[1;33m\u001b[0m\u001b[0m\n\u001b[0m",
      "\u001b[1;31mNameError\u001b[0m: name 'do_plot' is not defined"
     ]
    }
   ],
   "source": [
    "eid = 2352977\n",
    "do_plot(eid, prior=nh_prior(get_nh(eid)))"
   ]
  },
  {
   "cell_type": "code",
   "execution_count": null,
   "metadata": {},
   "outputs": [],
   "source": []
  },
  {
   "cell_type": "code",
   "execution_count": null,
   "metadata": {},
   "outputs": [],
   "source": []
  },
  {
   "cell_type": "code",
   "execution_count": null,
   "metadata": {},
   "outputs": [],
   "source": []
  },
  {
   "cell_type": "code",
   "execution_count": null,
   "metadata": {},
   "outputs": [],
   "source": []
  },
  {
   "cell_type": "code",
   "execution_count": null,
   "metadata": {},
   "outputs": [],
   "source": []
  },
  {
   "cell_type": "code",
   "execution_count": null,
   "metadata": {},
   "outputs": [],
   "source": []
  },
  {
   "cell_type": "code",
   "execution_count": null,
   "metadata": {},
   "outputs": [],
   "source": []
  },
  {
   "cell_type": "code",
   "execution_count": null,
   "metadata": {},
   "outputs": [],
   "source": []
  },
  {
   "cell_type": "code",
   "execution_count": null,
   "metadata": {},
   "outputs": [],
   "source": []
  },
  {
   "cell_type": "code",
   "execution_count": null,
   "metadata": {},
   "outputs": [],
   "source": []
  },
  {
   "cell_type": "code",
   "execution_count": null,
   "metadata": {},
   "outputs": [],
   "source": []
  },
  {
   "cell_type": "code",
   "execution_count": null,
   "metadata": {},
   "outputs": [],
   "source": []
  },
  {
   "cell_type": "code",
   "execution_count": null,
   "metadata": {},
   "outputs": [],
   "source": []
  },
  {
   "cell_type": "code",
   "execution_count": null,
   "metadata": {},
   "outputs": [],
   "source": []
  },
  {
   "cell_type": "code",
   "execution_count": null,
   "metadata": {},
   "outputs": [],
   "source": []
  },
  {
   "cell_type": "code",
   "execution_count": null,
   "metadata": {},
   "outputs": [],
   "source": []
  },
  {
   "cell_type": "code",
   "execution_count": null,
   "metadata": {},
   "outputs": [],
   "source": []
  },
  {
   "cell_type": "code",
   "execution_count": null,
   "metadata": {},
   "outputs": [],
   "source": []
  },
  {
   "cell_type": "code",
   "execution_count": null,
   "metadata": {},
   "outputs": [],
   "source": []
  },
  {
   "cell_type": "code",
   "execution_count": null,
   "metadata": {},
   "outputs": [],
   "source": []
  },
  {
   "cell_type": "code",
   "execution_count": null,
   "metadata": {},
   "outputs": [],
   "source": []
  }
 ],
 "metadata": {
  "kernelspec": {
   "display_name": "Python 2",
   "language": "python",
   "name": "python2"
  },
  "language_info": {
   "codemirror_mode": {
    "name": "ipython",
    "version": 2
   },
   "file_extension": ".py",
   "mimetype": "text/x-python",
   "name": "python",
   "nbconvert_exporter": "python",
   "pygments_lexer": "ipython2",
   "version": "2.7.12"
  }
 },
 "nbformat": 4,
 "nbformat_minor": 2
}
