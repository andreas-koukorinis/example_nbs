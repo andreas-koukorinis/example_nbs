{
 "cells": [
  {
   "cell_type": "code",
   "execution_count": null,
   "metadata": {
    "scrolled": false
   },
   "outputs": [],
   "source": [
    "from IPython.display import HTML\n",
    "\n",
    "HTML('''<script>\n",
    "code_show=true; \n",
    "function code_toggle() {\n",
    " if (code_show){\n",
    " $('div.input').hide();\n",
    " } else {\n",
    " $('div.input').show();\n",
    " }\n",
    " code_show = !code_show\n",
    "} \n",
    "$( document ).ready(code_toggle);\n",
    "</script>\n",
    "<form action=\"javascript:code_toggle()\"><input type=\"submit\" value=\"Click here to toggle on/off the raw code.\"></form>''')"
   ]
  },
  {
   "cell_type": "code",
   "execution_count": 91,
   "metadata": {},
   "outputs": [],
   "source": [
    "%matplotlib inline"
   ]
  },
  {
   "cell_type": "code",
   "execution_count": 92,
   "metadata": {},
   "outputs": [],
   "source": [
    "import numpy as np\n",
    "import scipy as sp\n",
    "import pandas as pd\n",
    "import seaborn as sns\n",
    "import datetime\n",
    "import matplotlib.pyplot as plt\n",
    "\n",
    "from sgmbasketball.models.factor_model.raw_data import NaturalHandicapRawData\n",
    "from sgmbasketball.models.factor_model.play_by_play_data import PlayByPlayCleanData\n",
    "from stratagemdataprocessing.data_api import find_basketball_events\n",
    "\n",
    "from sgmresearchbase.coint.space import normalise\n",
    "from sgmresearchbase.coint.common import hurst_naive\n",
    "from sgmresearchbase.coint.services import CointegrationService, _zs\n",
    "from sgmresearchbase.coint.projection import interpolate\n",
    "\n",
    "from IPython.display import clear_output"
   ]
  },
  {
   "cell_type": "code",
   "execution_count": 93,
   "metadata": {},
   "outputs": [],
   "source": [
    "plt.style.use('ggplot')\n",
    "plt.rcParams['figure.figsize'] = (16, 6)"
   ]
  },
  {
   "cell_type": "code",
   "execution_count": 94,
   "metadata": {},
   "outputs": [],
   "source": [
    "START_DT = datetime.datetime(2015, 6, 1)\n",
    "END_DT = datetime.datetime(2017, 11, 1)\n",
    "\n",
    "ALL_EVENTS = find_basketball_events(START_DT, END_DT, True)\n",
    "NBA_EVENTS = filter(lambda e: e['stage_name'] == 'NBA', ALL_EVENTS)\n",
    "\n",
    "PBP = PlayByPlayCleanData(str(START_DT)[0:10], str(END_DT)[0:10], 'NBA', 'pbp', fixture_filter=None).get_data_ready()\n",
    "NH = NaturalHandicapRawData(str(START_DT)[0:10], str(END_DT)[0:10], 'NBA', '', fixture_filter=None, use_cache=False).get_data_ready().dropna()\n",
    "\n",
    "clear_output()"
   ]
  },
  {
   "cell_type": "code",
   "execution_count": 95,
   "metadata": {},
   "outputs": [],
   "source": [
    "def get_basis(vals, model=1):\n",
    "    if vals.shape[0] < 1:\n",
    "        return np.zeros((2,))\n",
    "\n",
    "    both_bases = CointegrationService.get_cointegrating_bases(vals, model=model)\n",
    "    if both_bases is None:\n",
    "        return np.zeros((2,))\n",
    "\n",
    "    if both_bases[0, 0]*both_bases[1, 0] < 0:\n",
    "        basis = both_bases[:, 0]\n",
    "    elif both_bases[0, 1]*both_bases[1, 1] < 0:\n",
    "        basis = both_bases[:, 1]\n",
    "    else:\n",
    "        basis = both_bases[:, 0]*0.0    \n",
    "\n",
    "    if basis[0] < 0:\n",
    "        basis = -basis\n",
    "\n",
    "    return basis"
   ]
  },
  {
   "cell_type": "code",
   "execution_count": 96,
   "metadata": {},
   "outputs": [],
   "source": [
    "def metric(b):\n",
    "    ab = np.abs(b)\n",
    "    return np.diff(ab) / np.sum(ab)"
   ]
  },
  {
   "cell_type": "code",
   "execution_count": 97,
   "metadata": {},
   "outputs": [],
   "source": [
    "def plot_dists(vals):\n",
    "    f, (ax1, ax2) = plt.subplots(2, sharex=True)\n",
    "    mets = np.array([metric(r) for r in vals])\n",
    "\n",
    "    sns.distplot(vals[:, 0], ax=ax1)\n",
    "    sns.distplot(vals[:, 1], ax=ax1)\n",
    "    sns.distplot(mets, ax=ax1)\n",
    "    ax1.set_xlim([-1, 1])\n",
    "    ax1.set_title('Historical distribution of basis vectors (johansen method).', y=1.02)\n",
    "    ax1.set_xlabel('Value [-]')\n",
    "    ax1.set_ylabel('Occupancy [%]')\n",
    "    ax1.legend(['$\\\\beta_0$', '$\\\\beta_1$', '$(|\\\\beta_0| - |\\\\beta_1|)/(|\\\\beta_0| + |\\\\beta_1|)$'], loc='best')\n",
    "\n",
    "    filtered_mets = mets[np.abs(mets) < 3*np.std(mets)]\n",
    "    sns.distplot(filtered_mets, kde=False, norm_hist=True, ax=ax2)\n",
    "    sns.distplot(filtered_mets, kde=False, norm_hist=True, bins=75, ax=ax2)\n",
    "\n",
    "    x = np.linspace(np.min(filtered_mets), np.max(filtered_mets), 100)\n",
    "    mu, sigma = sp.stats.norm.fit(filtered_mets)\n",
    "    ax2.plot(x, sp.stats.norm.pdf(x, loc=mu, scale=sigma), c='k')\n",
    "    ax2.set_title('%.3f | %.2f' % (mu, sigma))\n",
    "\n",
    "    plt.tight_layout()"
   ]
  },
  {
   "cell_type": "code",
   "execution_count": null,
   "metadata": {},
   "outputs": [],
   "source": [
    "eids = np.intersect1d(np.unique(PBP.index.get_level_values(0)), np.unique(NH.index.values))\n",
    "sample = np.array([get_basis(PBP.loc[eid].loc[['Q3', 'Q4']][['points_h', 'points_a']].values) for eid in eids])"
   ]
  },
  {
   "cell_type": "code",
   "execution_count": null,
   "metadata": {},
   "outputs": [],
   "source": [
    "np.mean(sample[:, 0]), np.std(sample[:, 0])"
   ]
  },
  {
   "cell_type": "code",
   "execution_count": null,
   "metadata": {
    "scrolled": false
   },
   "outputs": [],
   "source": [
    "plot_dists(sample)"
   ]
  },
  {
   "cell_type": "code",
   "execution_count": null,
   "metadata": {
    "scrolled": false
   },
   "outputs": [],
   "source": [
    "groups = pd.cut(NH.ftps_1_line, bins=[-50, -15, -10, -5, 0, 5, 10, 15, 50])\n",
    "\n",
    "for g in np.unique(groups):\n",
    "    plot_dists(sample[groups == g])\n",
    "    plt.suptitle('Group: %s' % g, y=1.02, fontsize=16)"
   ]
  },
  {
   "cell_type": "code",
   "execution_count": null,
   "metadata": {},
   "outputs": [],
   "source": [
    "entries = []\n",
    "\n",
    "for nh in np.sort(np.unique(NH.ftps_1_line)):\n",
    "    vals = sample[NH.loc[eids].ftps_1_line == nh]\n",
    "    mets = np.array([metric(r) for r in vals])\n",
    "\n",
    "    entries.append((nh, np.median(vals[:, 0]), np.mean(vals[:, 0]), np.std(vals[:, 0]), sp.stats.skew(vals[:, 0])))\n",
    "\n",
    "entries = np.array(entries)"
   ]
  },
  {
   "cell_type": "code",
   "execution_count": null,
   "metadata": {
    "scrolled": false
   },
   "outputs": [],
   "source": [
    "sns.pairplot(pd.DataFrame(entries, columns=['Natural Handicap', 'Median', 'Mean', 'Std', 'Skew']))\n",
    "plt.tight_layout()"
   ]
  },
  {
   "cell_type": "code",
   "execution_count": null,
   "metadata": {
    "scrolled": false
   },
   "outputs": [],
   "source": [
    "from sklearn.linear_model import LinearRegression\n",
    "\n",
    "sns.regplot(entries[:, 0], entries[:, 2])\n",
    "\n",
    "x = np.arange(-20, 20)\n",
    "lr = LinearRegression().fit(entries[:, 0].reshape(-1, 1), entries[:, 2])\n",
    "\n",
    "print lr.coef_, lr.intercept_"
   ]
  },
  {
   "cell_type": "code",
   "execution_count": null,
   "metadata": {},
   "outputs": [],
   "source": [
    "sns.jointplot(NH.loc[eids].ftps_1_line, sample[:, 0])"
   ]
  },
  {
   "cell_type": "code",
   "execution_count": null,
   "metadata": {},
   "outputs": [],
   "source": []
  },
  {
   "cell_type": "code",
   "execution_count": null,
   "metadata": {},
   "outputs": [],
   "source": []
  },
  {
   "cell_type": "code",
   "execution_count": null,
   "metadata": {},
   "outputs": [],
   "source": []
  },
  {
   "cell_type": "code",
   "execution_count": null,
   "metadata": {},
   "outputs": [],
   "source": []
  },
  {
   "cell_type": "code",
   "execution_count": null,
   "metadata": {},
   "outputs": [],
   "source": []
  },
  {
   "cell_type": "code",
   "execution_count": null,
   "metadata": {},
   "outputs": [],
   "source": []
  },
  {
   "cell_type": "code",
   "execution_count": null,
   "metadata": {},
   "outputs": [],
   "source": []
  },
  {
   "cell_type": "code",
   "execution_count": null,
   "metadata": {},
   "outputs": [],
   "source": []
  },
  {
   "cell_type": "code",
   "execution_count": null,
   "metadata": {},
   "outputs": [],
   "source": []
  },
  {
   "cell_type": "code",
   "execution_count": null,
   "metadata": {},
   "outputs": [],
   "source": []
  }
 ],
 "metadata": {
  "kernelspec": {
   "display_name": "Python 2",
   "language": "python",
   "name": "python2"
  },
  "language_info": {
   "codemirror_mode": {
    "name": "ipython",
    "version": 2
   },
   "file_extension": ".py",
   "mimetype": "text/x-python",
   "name": "python",
   "nbconvert_exporter": "python",
   "pygments_lexer": "ipython2",
   "version": "2.7.12"
  }
 },
 "nbformat": 4,
 "nbformat_minor": 2
}
